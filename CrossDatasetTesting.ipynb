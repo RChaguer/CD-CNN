{
 "cells": [
  {
   "cell_type": "code",
   "execution_count": 1,
   "id": "316060e8",
   "metadata": {
    "execution": {
     "iopub.execute_input": "2021-12-01T05:17:56.992471Z",
     "iopub.status.busy": "2021-12-01T05:17:56.990517Z",
     "iopub.status.idle": "2021-12-01T05:18:15.170647Z",
     "shell.execute_reply": "2021-12-01T05:18:15.169120Z",
     "shell.execute_reply.started": "2021-12-01T03:48:36.097306Z"
    },
    "papermill": {
     "duration": 18.200338,
     "end_time": "2021-12-01T05:18:15.170895",
     "exception": false,
     "start_time": "2021-12-01T05:17:56.970557",
     "status": "completed"
    },
    "tags": []
   },
   "outputs": [
    {
     "name": "stdout",
     "output_type": "stream",
     "text": [
      "Cloning into 'CD-CNN'...\r\n",
      "remote: Enumerating objects: 82, done.\u001b[K\r\n",
      "remote: Counting objects: 100% (82/82), done.\u001b[K\r\n",
      "remote: Compressing objects: 100% (53/53), done.\u001b[K\r\n",
      "remote: Total 82 (delta 31), reused 77 (delta 26), pack-reused 0\u001b[K\r\n",
      "Unpacking objects: 100% (82/82), done.\r\n"
     ]
    }
   ],
   "source": [
    "import tensorflow as tf\n",
    "import numpy as np\n",
    "import matplotlib.pyplot as plt\n",
    "from tensorflow.keras.models import load_model\n"
   ]
  },
  {
   "cell_type": "code",
   "execution_count": 2,
   "id": "d27898b0",
   "metadata": {
    "execution": {
     "iopub.execute_input": "2021-12-01T05:18:15.246847Z",
     "iopub.status.busy": "2021-12-01T05:18:15.245814Z",
     "iopub.status.idle": "2021-12-01T05:18:15.457225Z",
     "shell.execute_reply": "2021-12-01T05:18:15.458487Z",
     "shell.execute_reply.started": "2021-12-01T03:48:50.962916Z"
    },
    "papermill": {
     "duration": 0.252564,
     "end_time": "2021-12-01T05:18:15.458807",
     "exception": false,
     "start_time": "2021-12-01T05:18:15.206243",
     "status": "completed"
    },
    "tags": []
   },
   "outputs": [],
   "source": [
    "from data.DataLoader import NUAADataLoader, MSUDataLoader\n",
    "from training.trainModel import trainModel, benchmarkModel"
   ]
  },
  {
   "cell_type": "code",
   "execution_count": 3,
   "id": "6282560e",
   "metadata": {
    "execution": {
     "iopub.execute_input": "2021-12-01T05:18:15.519023Z",
     "iopub.status.busy": "2021-12-01T05:18:15.518136Z",
     "iopub.status.idle": "2021-12-01T05:18:15.520601Z",
     "shell.execute_reply": "2021-12-01T05:18:15.519766Z",
     "shell.execute_reply.started": "2021-12-01T03:47:25.260140Z"
    },
    "papermill": {
     "duration": 0.034479,
     "end_time": "2021-12-01T05:18:15.520797",
     "exception": false,
     "start_time": "2021-12-01T05:18:15.486318",
     "status": "completed"
    },
    "tags": []
   },
   "outputs": [],
   "source": [
    "nuaa_data_source =  \"../input/nuaadataset/NUAA/\"\n",
    "msu_data_source =  \"../input/msumsfd/MSU-MSFD/\"\n",
    "saved_models = \"trained_models/\""
   ]
  },
  {
   "cell_type": "code",
   "execution_count": 4,
   "id": "bc5d49b7",
   "metadata": {
    "execution": {
     "iopub.execute_input": "2021-12-01T05:18:15.768594Z",
     "iopub.status.busy": "2021-12-01T05:18:15.767850Z",
     "iopub.status.idle": "2021-12-01T05:18:15.790077Z",
     "shell.execute_reply": "2021-12-01T05:18:15.790858Z",
     "shell.execute_reply.started": "2021-12-01T04:42:49.457236Z"
    },
    "papermill": {
     "duration": 0.239704,
     "end_time": "2021-12-01T05:18:15.791117",
     "exception": false,
     "start_time": "2021-12-01T05:18:15.551413",
     "status": "completed"
    },
    "tags": []
   },
   "outputs": [
    {
     "name": "stdout",
     "output_type": "stream",
     "text": [
      "Num GPUs Available:  1\n"
     ]
    },
    {
     "name": "stderr",
     "output_type": "stream",
     "text": [
      "2021-12-01 05:18:15.643105: I tensorflow/stream_executor/cuda/cuda_gpu_executor.cc:937] successful NUMA node read from SysFS had negative value (-1), but there must be at least one NUMA node, so returning NUMA node zero\n",
      "2021-12-01 05:18:15.762561: I tensorflow/stream_executor/cuda/cuda_gpu_executor.cc:937] successful NUMA node read from SysFS had negative value (-1), but there must be at least one NUMA node, so returning NUMA node zero\n",
      "2021-12-01 05:18:15.763462: I tensorflow/stream_executor/cuda/cuda_gpu_executor.cc:937] successful NUMA node read from SysFS had negative value (-1), but there must be at least one NUMA node, so returning NUMA node zero\n"
     ]
    }
   ],
   "source": [
    "print(\"Num GPUs Available: \", len(tf.config.list_physical_devices('GPU')))\n",
    "tf.keras.backend.clear_session()"
   ]
  },
  {
   "cell_type": "code",
   "execution_count": 5,
   "id": "968502ce",
   "metadata": {
    "execution": {
     "iopub.execute_input": "2021-12-01T05:18:15.831731Z",
     "iopub.status.busy": "2021-12-01T05:18:15.830960Z",
     "iopub.status.idle": "2021-12-01T05:18:48.459049Z",
     "shell.execute_reply": "2021-12-01T05:18:48.459555Z",
     "shell.execute_reply.started": "2021-12-01T03:47:27.205447Z"
    },
    "papermill": {
     "duration": 32.650719,
     "end_time": "2021-12-01T05:18:48.459739",
     "exception": false,
     "start_time": "2021-12-01T05:18:15.809020",
     "status": "completed"
    },
    "tags": []
   },
   "outputs": [
    {
     "name": "stdout",
     "output_type": "stream",
     "text": [
      "Found 12614 files belonging to 2 classes.\n",
      "Using 10092 files for training.\n"
     ]
    },
    {
     "name": "stderr",
     "output_type": "stream",
     "text": [
      "2021-12-01 05:18:24.455919: I tensorflow/core/platform/cpu_feature_guard.cc:142] This TensorFlow binary is optimized with oneAPI Deep Neural Network Library (oneDNN) to use the following CPU instructions in performance-critical operations:  AVX2 FMA\n",
      "To enable them in other operations, rebuild TensorFlow with the appropriate compiler flags.\n",
      "2021-12-01 05:18:24.459123: I tensorflow/stream_executor/cuda/cuda_gpu_executor.cc:937] successful NUMA node read from SysFS had negative value (-1), but there must be at least one NUMA node, so returning NUMA node zero\n",
      "2021-12-01 05:18:24.460256: I tensorflow/stream_executor/cuda/cuda_gpu_executor.cc:937] successful NUMA node read from SysFS had negative value (-1), but there must be at least one NUMA node, so returning NUMA node zero\n",
      "2021-12-01 05:18:24.461330: I tensorflow/stream_executor/cuda/cuda_gpu_executor.cc:937] successful NUMA node read from SysFS had negative value (-1), but there must be at least one NUMA node, so returning NUMA node zero\n",
      "2021-12-01 05:18:26.765719: I tensorflow/stream_executor/cuda/cuda_gpu_executor.cc:937] successful NUMA node read from SysFS had negative value (-1), but there must be at least one NUMA node, so returning NUMA node zero\n",
      "2021-12-01 05:18:26.766806: I tensorflow/stream_executor/cuda/cuda_gpu_executor.cc:937] successful NUMA node read from SysFS had negative value (-1), but there must be at least one NUMA node, so returning NUMA node zero\n",
      "2021-12-01 05:18:26.767881: I tensorflow/stream_executor/cuda/cuda_gpu_executor.cc:937] successful NUMA node read from SysFS had negative value (-1), but there must be at least one NUMA node, so returning NUMA node zero\n",
      "2021-12-01 05:18:26.768837: I tensorflow/core/common_runtime/gpu/gpu_device.cc:1510] Created device /job:localhost/replica:0/task:0/device:GPU:0 with 15403 MB memory:  -> device: 0, name: Tesla P100-PCIE-16GB, pci bus id: 0000:00:04.0, compute capability: 6.0\n"
     ]
    },
    {
     "name": "stdout",
     "output_type": "stream",
     "text": [
      "Found 12614 files belonging to 2 classes.\n",
      "Using 2522 files for validation.\n",
      "Found 12614 files belonging to 2 classes.\n",
      "Using 10092 files for training.\n",
      "Found 12614 files belonging to 2 classes.\n",
      "Using 2522 files for validation.\n",
      "Found 12614 files belonging to 2 classes.\n",
      "Using 10092 files for training.\n",
      "Found 12614 files belonging to 2 classes.\n",
      "Using 2522 files for validation.\n"
     ]
    }
   ],
   "source": [
    "NUAAdtLoader = NUAADataLoader(nuaa_data_source)\n",
    "NUAAdtLoader.loadData()"
   ]
  },
  {
   "cell_type": "code",
   "execution_count": 6,
   "id": "43b8d075",
   "metadata": {
    "execution": {
     "iopub.execute_input": "2021-12-01T05:18:48.502395Z",
     "iopub.status.busy": "2021-12-01T05:18:48.501597Z",
     "iopub.status.idle": "2021-12-01T05:18:48.505390Z",
     "shell.execute_reply": "2021-12-01T05:18:48.504784Z",
     "shell.execute_reply.started": "2021-12-01T04:42:56.897146Z"
    },
    "papermill": {
     "duration": 0.027247,
     "end_time": "2021-12-01T05:18:48.505524",
     "exception": false,
     "start_time": "2021-12-01T05:18:48.478277",
     "status": "completed"
    },
    "tags": []
   },
   "outputs": [],
   "source": [
    "train_raw = NUAAdtLoader.getTrainSet('raw')\n",
    "valid_raw = NUAAdtLoader.getValidSet('raw')\n",
    "\n",
    "train_norm = NUAAdtLoader.getTrainSet('normalized')\n",
    "valid_norm = NUAAdtLoader.getValidSet('normalized')\n",
    "\n",
    "train_det = NUAAdtLoader.getTrainSet('detected')\n",
    "valid_det = NUAAdtLoader.getValidSet('detected')"
   ]
  },
  {
   "cell_type": "code",
   "execution_count": 7,
   "id": "9ceca2fe",
   "metadata": {
    "execution": {
     "iopub.execute_input": "2021-12-01T05:18:48.548781Z",
     "iopub.status.busy": "2021-12-01T05:18:48.548083Z",
     "iopub.status.idle": "2021-12-01T05:19:35.744374Z",
     "shell.execute_reply": "2021-12-01T05:19:35.745221Z",
     "shell.execute_reply.started": "2021-12-01T03:49:10.339276Z"
    },
    "papermill": {
     "duration": 47.220481,
     "end_time": "2021-12-01T05:19:35.745427",
     "exception": false,
     "start_time": "2021-12-01T05:18:48.524946",
     "status": "completed"
    },
    "tags": []
   },
   "outputs": [],
   "source": [
    "MSUdtLoader = MSUDataLoader(msu_data_source)\n",
    "MSUdtLoader.preLoadData()\n",
    "MSUdtLoader.loadData(train_frames=30)"
   ]
  },
  {
   "cell_type": "code",
   "execution_count": 8,
   "id": "00216f4e",
   "metadata": {
    "execution": {
     "iopub.execute_input": "2021-12-01T05:19:35.789809Z",
     "iopub.status.busy": "2021-12-01T05:19:35.788922Z",
     "iopub.status.idle": "2021-12-01T05:19:35.791662Z",
     "shell.execute_reply": "2021-12-01T05:19:35.792145Z",
     "shell.execute_reply.started": "2021-12-01T04:42:59.252484Z"
    },
    "papermill": {
     "duration": 0.026935,
     "end_time": "2021-12-01T05:19:35.792336",
     "exception": false,
     "start_time": "2021-12-01T05:19:35.765401",
     "status": "completed"
    },
    "tags": []
   },
   "outputs": [],
   "source": [
    "x_train, y_train = MSUdtLoader.getTrainSet()\n",
    "x_valid, y_valid = MSUdtLoader.getValidSet()"
   ]
  },
  {
   "cell_type": "code",
   "execution_count": 9,
   "id": "8aabcefa",
   "metadata": {
    "execution": {
     "iopub.execute_input": "2021-12-01T05:19:35.838471Z",
     "iopub.status.busy": "2021-12-01T05:19:35.837402Z",
     "iopub.status.idle": "2021-12-01T05:19:35.840166Z",
     "shell.execute_reply": "2021-12-01T05:19:35.840664Z",
     "shell.execute_reply.started": "2021-12-01T04:43:28.288603Z"
    },
    "papermill": {
     "duration": 0.02956,
     "end_time": "2021-12-01T05:19:35.840830",
     "exception": false,
     "start_time": "2021-12-01T05:19:35.811270",
     "status": "completed"
    },
    "tags": []
   },
   "outputs": [],
   "source": [
    "validation_dict = {\"raw\":valid_raw, \"det\":valid_det, \"norm\":valid_norm}\n",
    "training_dict = {\"raw\":train_raw, \"det\":train_det, \"norm\":train_norm}\n",
    "\n",
    "training_dataset = \"norm\" # \"raw\" \"det\" \"norm\"\n",
    "nb_epochs = 1\n",
    "Theta = 0.4"
   ]
  },
  {
   "cell_type": "code",
   "execution_count": 10,
   "id": "82240032",
   "metadata": {
    "execution": {
     "iopub.execute_input": "2021-12-01T05:19:35.885963Z",
     "iopub.status.busy": "2021-12-01T05:19:35.885322Z",
     "iopub.status.idle": "2021-12-01T05:31:16.424392Z",
     "shell.execute_reply": "2021-12-01T05:31:16.423501Z",
     "shell.execute_reply.started": "2021-12-01T04:43:41.987970Z"
    },
    "papermill": {
     "duration": 700.564057,
     "end_time": "2021-12-01T05:31:16.424625",
     "exception": false,
     "start_time": "2021-12-01T05:19:35.860568",
     "status": "completed"
    },
    "tags": []
   },
   "outputs": [
    {
     "name": "stderr",
     "output_type": "stream",
     "text": [
      "2021-12-01 05:19:39.950528: I tensorflow/compiler/mlir/mlir_graph_optimization_pass.cc:185] None of the MLIR Optimization Passes are enabled (registered 2)\n",
      "2021-12-01 05:19:41.751340: I tensorflow/stream_executor/cuda/cuda_dnn.cc:369] Loaded cuDNN version 8005\n"
     ]
    },
    {
     "name": "stdout",
     "output_type": "stream",
     "text": [
      "1262/1262 [==============================] - 630s 489ms/step - loss: 0.2415 - binary_accuracy: 0.8987 - precision: 0.9052 - recall: 0.8362 - val_loss: 0.1738 - val_binary_accuracy: 0.9385 - val_precision: 0.9692 - val_recall: 0.8787\n"
     ]
    },
    {
     "name": "stderr",
     "output_type": "stream",
     "text": [
      "2021-12-01 05:31:07.898755: W tensorflow/python/util/util.cc:348] Sets are not currently considered sequences, but this may change in the future, so consider avoiding using them.\n"
     ]
    }
   ],
   "source": [
    "# Training model\n",
    "if training_dataset == \"msu\":\n",
    "    model, history = trainModel(x_train, y_train=y_train, valid=(x_valid, y_valid), ds_name='msu', epochs=nb_epochs, theta=Theta, g_dropout=False)\n",
    "elif training_dataset in validation_dict.keys():\n",
    "    model, history = trainModel(training_dict[training_dataset], valid=validation_dict[training_dataset], ds_name=training_dataset, epochs=nb_epochs, theta=Theta)"
   ]
  },
  {
   "cell_type": "code",
   "execution_count": 11,
   "id": "0545d9e8",
   "metadata": {
    "execution": {
     "iopub.execute_input": "2021-12-01T05:31:17.345189Z",
     "iopub.status.busy": "2021-12-01T05:31:17.344112Z",
     "iopub.status.idle": "2021-12-01T05:31:22.046063Z",
     "shell.execute_reply": "2021-12-01T05:31:22.046898Z",
     "shell.execute_reply.started": "2021-12-01T04:54:15.238133Z"
    },
    "papermill": {
     "duration": 5.179198,
     "end_time": "2021-12-01T05:31:22.047122",
     "exception": false,
     "start_time": "2021-12-01T05:31:16.867924",
     "status": "completed"
    },
    "tags": []
   },
   "outputs": [],
   "source": [
    "# Or loading model\n",
    "model_raw = load_model(saved_models+'model_'+training_dataset)"
   ]
  },
  {
   "cell_type": "code",
   "execution_count": 12,
   "id": "5fc78c8c",
   "metadata": {
    "execution": {
     "iopub.execute_input": "2021-12-01T05:31:23.214649Z",
     "iopub.status.busy": "2021-12-01T05:31:23.213350Z",
     "iopub.status.idle": "2021-12-01T05:31:34.255376Z",
     "shell.execute_reply": "2021-12-01T05:31:34.254597Z",
     "shell.execute_reply.started": "2021-12-01T04:54:23.245167Z"
    },
    "papermill": {
     "duration": 11.468458,
     "end_time": "2021-12-01T05:31:34.255603",
     "exception": false,
     "start_time": "2021-12-01T05:31:22.787145",
     "status": "completed"
    },
    "tags": []
   },
   "outputs": [
    {
     "name": "stdout",
     "output_type": "stream",
     "text": [
      "8/8 [==============================] - 7s 591ms/step - loss: 1.0230 - binary_accuracy: 0.8250 - precision: 0.8611 - recall: 0.7750\n"
     ]
    }
   ],
   "source": [
    "s_msu = benchmarkModel(model, x_valid, y_valid)"
   ]
  },
  {
   "cell_type": "code",
   "execution_count": 13,
   "id": "f0153276",
   "metadata": {
    "execution": {
     "iopub.execute_input": "2021-12-01T05:31:35.130815Z",
     "iopub.status.busy": "2021-12-01T05:31:35.130268Z",
     "iopub.status.idle": "2021-12-01T05:32:19.194900Z",
     "shell.execute_reply": "2021-12-01T05:32:19.195462Z",
     "shell.execute_reply.started": "2021-12-01T04:54:33.082273Z"
    },
    "papermill": {
     "duration": 44.504618,
     "end_time": "2021-12-01T05:32:19.195668",
     "exception": false,
     "start_time": "2021-12-01T05:31:34.691050",
     "status": "completed"
    },
    "tags": []
   },
   "outputs": [
    {
     "name": "stdout",
     "output_type": "stream",
     "text": [
      "316/316 [==============================] - 44s 138ms/step - loss: 3.3536 - binary_accuracy: 0.6963 - precision: 0.5836 - recall: 0.9172\n"
     ]
    }
   ],
   "source": [
    "s_raw = benchmarkModel(model, valid_raw)"
   ]
  },
  {
   "cell_type": "code",
   "execution_count": 14,
   "id": "04c20243",
   "metadata": {
    "execution": {
     "iopub.execute_input": "2021-12-01T05:32:20.273676Z",
     "iopub.status.busy": "2021-12-01T05:32:20.272591Z",
     "iopub.status.idle": "2021-12-01T05:33:03.960949Z",
     "shell.execute_reply": "2021-12-01T05:33:03.961546Z",
     "shell.execute_reply.started": "2021-12-01T04:55:22.819424Z"
    },
    "papermill": {
     "duration": 44.234334,
     "end_time": "2021-12-01T05:33:03.961711",
     "exception": false,
     "start_time": "2021-12-01T05:32:19.727377",
     "status": "completed"
    },
    "tags": []
   },
   "outputs": [
    {
     "name": "stdout",
     "output_type": "stream",
     "text": [
      "316/316 [==============================] - 44s 137ms/step - loss: 0.4759 - binary_accuracy: 0.8914 - precision: 0.9135 - recall: 0.8133\n"
     ]
    }
   ],
   "source": [
    "s_detected = benchmarkModel(model, valid_det)"
   ]
  },
  {
   "cell_type": "code",
   "execution_count": 15,
   "id": "6408ad1a",
   "metadata": {
    "execution": {
     "iopub.execute_input": "2021-12-01T05:33:05.462435Z",
     "iopub.status.busy": "2021-12-01T05:33:05.461238Z",
     "iopub.status.idle": "2021-12-01T05:33:49.980828Z",
     "shell.execute_reply": "2021-12-01T05:33:49.980248Z",
     "shell.execute_reply.started": "2021-12-01T04:57:02.572262Z"
    },
    "papermill": {
     "duration": 45.259612,
     "end_time": "2021-12-01T05:33:49.980963",
     "exception": false,
     "start_time": "2021-12-01T05:33:04.721351",
     "status": "completed"
    },
    "tags": []
   },
   "outputs": [
    {
     "name": "stdout",
     "output_type": "stream",
     "text": [
      "316/316 [==============================] - 45s 141ms/step - loss: 0.1738 - binary_accuracy: 0.9385 - precision: 0.9692 - recall: 0.8787\n"
     ]
    }
   ],
   "source": [
    "s_normalized = benchmarkModel(model, valid_norm)"
   ]
  }
 ],
 "metadata": {
  "kernelspec": {
   "display_name": "Python 3",
   "language": "python",
   "name": "python3"
  },
  "language_info": {
   "codemirror_mode": {
    "name": "ipython",
    "version": 3
   },
   "file_extension": ".py",
   "mimetype": "text/x-python",
   "name": "python",
   "nbconvert_exporter": "python",
   "pygments_lexer": "ipython3",
   "version": "3.7.10"
  },
  "papermill": {
   "default_parameters": {},
   "duration": 965.099908,
   "end_time": "2021-12-01T05:33:53.741751",
   "environment_variables": {},
   "exception": null,
   "input_path": "__notebook__.ipynb",
   "output_path": "__notebook__.ipynb",
   "parameters": {},
   "start_time": "2021-12-01T05:17:48.641843",
   "version": "2.3.3"
  }
 },
 "nbformat": 4,
 "nbformat_minor": 5
}
